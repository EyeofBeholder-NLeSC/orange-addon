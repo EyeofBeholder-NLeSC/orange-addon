{
 "cells": [
  {
   "cell_type": "code",
   "execution_count": 1,
   "metadata": {},
   "outputs": [
    {
     "data": {
      "text/html": [
       "<div>\n",
       "<style scoped>\n",
       "    .dataframe tbody tr th:only-of-type {\n",
       "        vertical-align: middle;\n",
       "    }\n",
       "\n",
       "    .dataframe tbody tr th {\n",
       "        vertical-align: top;\n",
       "    }\n",
       "\n",
       "    .dataframe thead th {\n",
       "        text-align: right;\n",
       "    }\n",
       "</style>\n",
       "<table border=\"1\" class=\"dataframe\">\n",
       "  <thead>\n",
       "    <tr style=\"text-align: right;\">\n",
       "      <th></th>\n",
       "      <th>reviewText</th>\n",
       "    </tr>\n",
       "  </thead>\n",
       "  <tbody>\n",
       "    <tr>\n",
       "      <th>0</th>\n",
       "      <td>I always get a half size up in my tennis shoes...</td>\n",
       "    </tr>\n",
       "    <tr>\n",
       "      <th>1</th>\n",
       "      <td>Put them on and walked 3 hours with no problem...</td>\n",
       "    </tr>\n",
       "    <tr>\n",
       "      <th>2</th>\n",
       "      <td>excelente</td>\n",
       "    </tr>\n",
       "    <tr>\n",
       "      <th>3</th>\n",
       "      <td>The shoes fit well in the arch area. They are ...</td>\n",
       "    </tr>\n",
       "    <tr>\n",
       "      <th>4</th>\n",
       "      <td>Tried them on in a store before buying online ...</td>\n",
       "    </tr>\n",
       "    <tr>\n",
       "      <th>...</th>\n",
       "      <td>...</td>\n",
       "    </tr>\n",
       "    <tr>\n",
       "      <th>364</th>\n",
       "      <td>Favorite Nike shoe ever! The flex sole is exce...</td>\n",
       "    </tr>\n",
       "    <tr>\n",
       "      <th>365</th>\n",
       "      <td>I wear these everyday to work, the gym, etc.</td>\n",
       "    </tr>\n",
       "    <tr>\n",
       "      <th>366</th>\n",
       "      <td>Love these shoes! Great fit, very light weight.</td>\n",
       "    </tr>\n",
       "    <tr>\n",
       "      <th>367</th>\n",
       "      <td>Super comfortable and fit my small feet perfec...</td>\n",
       "    </tr>\n",
       "    <tr>\n",
       "      <th>368</th>\n",
       "      <td>Love these shoes!</td>\n",
       "    </tr>\n",
       "  </tbody>\n",
       "</table>\n",
       "<p>369 rows × 1 columns</p>\n",
       "</div>"
      ],
      "text/plain": [
       "                                            reviewText\n",
       "0    I always get a half size up in my tennis shoes...\n",
       "1    Put them on and walked 3 hours with no problem...\n",
       "2                                            excelente\n",
       "3    The shoes fit well in the arch area. They are ...\n",
       "4    Tried them on in a store before buying online ...\n",
       "..                                                 ...\n",
       "364  Favorite Nike shoe ever! The flex sole is exce...\n",
       "365       I wear these everyday to work, the gym, etc.\n",
       "366    Love these shoes! Great fit, very light weight.\n",
       "367  Super comfortable and fit my small feet perfec...\n",
       "368                                  Love these shoes!\n",
       "\n",
       "[369 rows x 1 columns]"
      ]
     },
     "execution_count": 1,
     "metadata": {},
     "output_type": "execute_result"
    }
   ],
   "source": [
    "import pandas as pd\n",
    "\n",
    "dpath = '../data/sample_input.json'\n",
    "\n",
    "df = pd.read_json(dpath, lines=True)\n",
    "df"
   ]
  },
  {
   "cell_type": "code",
   "execution_count": 2,
   "metadata": {},
   "outputs": [
    {
     "data": {
      "text/html": [
       "<div>\n",
       "<style scoped>\n",
       "    .dataframe tbody tr th:only-of-type {\n",
       "        vertical-align: middle;\n",
       "    }\n",
       "\n",
       "    .dataframe tbody tr th {\n",
       "        vertical-align: top;\n",
       "    }\n",
       "\n",
       "    .dataframe thead th {\n",
       "        text-align: right;\n",
       "    }\n",
       "</style>\n",
       "<table border=\"1\" class=\"dataframe\">\n",
       "  <thead>\n",
       "    <tr style=\"text-align: right;\">\n",
       "      <th></th>\n",
       "      <th>reviewText</th>\n",
       "    </tr>\n",
       "  </thead>\n",
       "  <tbody>\n",
       "    <tr>\n",
       "      <th>0</th>\n",
       "      <td>I always get a half size up in my tennis shoes...</td>\n",
       "    </tr>\n",
       "    <tr>\n",
       "      <th>1</th>\n",
       "      <td>Put them on and walked 3 hours with no problem...</td>\n",
       "    </tr>\n",
       "    <tr>\n",
       "      <th>2</th>\n",
       "      <td>excelente</td>\n",
       "    </tr>\n",
       "    <tr>\n",
       "      <th>3</th>\n",
       "      <td>The shoes fit well in the arch area. They are ...</td>\n",
       "    </tr>\n",
       "    <tr>\n",
       "      <th>4</th>\n",
       "      <td>Tried them on in a store before buying online ...</td>\n",
       "    </tr>\n",
       "    <tr>\n",
       "      <th>...</th>\n",
       "      <td>...</td>\n",
       "    </tr>\n",
       "    <tr>\n",
       "      <th>364</th>\n",
       "      <td>Favorite Nike shoe ever! The flex sole is exce...</td>\n",
       "    </tr>\n",
       "    <tr>\n",
       "      <th>365</th>\n",
       "      <td>I wear these everyday to work, the gym, etc.</td>\n",
       "    </tr>\n",
       "    <tr>\n",
       "      <th>366</th>\n",
       "      <td>Love these shoes! Great fit, very light weight.</td>\n",
       "    </tr>\n",
       "    <tr>\n",
       "      <th>367</th>\n",
       "      <td>Super comfortable and fit my small feet perfec...</td>\n",
       "    </tr>\n",
       "    <tr>\n",
       "      <th>368</th>\n",
       "      <td>Love these shoes!</td>\n",
       "    </tr>\n",
       "  </tbody>\n",
       "</table>\n",
       "<p>369 rows × 1 columns</p>\n",
       "</div>"
      ],
      "text/plain": [
       "                                            reviewText\n",
       "0    I always get a half size up in my tennis shoes...\n",
       "1    Put them on and walked 3 hours with no problem...\n",
       "2                                            excelente\n",
       "3    The shoes fit well in the arch area. They are ...\n",
       "4    Tried them on in a store before buying online ...\n",
       "..                                                 ...\n",
       "364  Favorite Nike shoe ever! The flex sole is exce...\n",
       "365       I wear these everyday to work, the gym, etc.\n",
       "366    Love these shoes! Great fit, very light weight.\n",
       "367  Super comfortable and fit my small feet perfec...\n",
       "368                                  Love these shoes!\n",
       "\n",
       "[369 rows x 1 columns]"
      ]
     },
     "execution_count": 2,
     "metadata": {},
     "output_type": "execute_result"
    }
   ],
   "source": [
    "df_reviews = df.loc[df.astype('str').drop_duplicates().index]\n",
    "df_reviews"
   ]
  },
  {
   "cell_type": "code",
   "execution_count": 3,
   "metadata": {},
   "outputs": [
    {
     "data": {
      "text/plain": [
       "<function __main__.readability(doc)>"
      ]
     },
     "execution_count": 3,
     "metadata": {},
     "output_type": "execute_result"
    }
   ],
   "source": [
    "import spacy\n",
    "import pytextrank\n",
    "from spacy.language import Language\n",
    "from spacy_readability import Readability\n",
    "from importlib.util import find_spec\n",
    "\n",
    "@Language.component(\"readability\")\n",
    "def readability(doc):\n",
    "    read = Readability()\n",
    "    doc = read(doc)\n",
    "    return doc\n",
    "\n",
    "pipe_name = 'en_core_web_md'\n",
    "\n",
    "if find_spec(pipe_name) is None:\n",
    "    spacy.cli.download(pipe_name)\n",
    "\n",
    "nlp = spacy.load(pipe_name)\n",
    "nlp.add_pipe(\"textrank\", last=True)\n",
    "nlp.add_pipe(\"readability\", last=True)"
   ]
  },
  {
   "cell_type": "code",
   "execution_count": 4,
   "metadata": {},
   "outputs": [],
   "source": [
    "def apply_ranking(doc, trt):\n",
    "    results = []\n",
    "    for phrase in doc._.phrases:\n",
    "        if phrase.rank >= trt:\n",
    "            results.append((phrase.text, phrase.rank))\n",
    "    return results\n",
    "\n",
    "def apply_readability(doc):\n",
    "    return doc._.flesch_kincaid_reading_ease"
   ]
  },
  {
   "cell_type": "code",
   "execution_count": 5,
   "metadata": {},
   "outputs": [
    {
     "name": "stdout",
     "output_type": "stream",
     "text": [
      "Size: 369\n",
      "Sample: [[('my tennis shoes', 0.12971597081854963), ('the heel area', 0.11278192619619307), ('a half', 0.053635551595810474), ('some reason', 0.04734609155372741), ('I', 0.0), ('these', 0.0)], 92.43000000000002]\n"
     ]
    }
   ],
   "source": [
    "scores = []\n",
    "docs = nlp.pipe(texts=df_reviews['reviewText'].astype('str'))\n",
    "for doc in docs:\n",
    "    scores.append([apply_ranking(doc, 0), apply_readability(doc)])\n",
    "print('Size:', len(scores))\n",
    "print('Sample:', scores[0])"
   ]
  },
  {
   "cell_type": "code",
   "execution_count": 6,
   "metadata": {},
   "outputs": [
    {
     "data": {
      "text/html": [
       "<div>\n",
       "<style scoped>\n",
       "    .dataframe tbody tr th:only-of-type {\n",
       "        vertical-align: middle;\n",
       "    }\n",
       "\n",
       "    .dataframe tbody tr th {\n",
       "        vertical-align: top;\n",
       "    }\n",
       "\n",
       "    .dataframe thead th {\n",
       "        text-align: right;\n",
       "    }\n",
       "</style>\n",
       "<table border=\"1\" class=\"dataframe\">\n",
       "  <thead>\n",
       "    <tr style=\"text-align: right;\">\n",
       "      <th></th>\n",
       "      <th>reviewText</th>\n",
       "      <th>ranks</th>\n",
       "      <th>n_tokens</th>\n",
       "      <th>readability</th>\n",
       "    </tr>\n",
       "  </thead>\n",
       "  <tbody>\n",
       "    <tr>\n",
       "      <th>313</th>\n",
       "      <td>Favorite training and walking-around sneakers....</td>\n",
       "      <td>[(gym use, 0.09606191299609641), (flex supreme...</td>\n",
       "      <td>52</td>\n",
       "      <td>70.526224</td>\n",
       "    </tr>\n",
       "    <tr>\n",
       "      <th>347</th>\n",
       "      <td>I am a recess aide and on my feet all day long...</td>\n",
       "      <td>[(hip pain, 0.13045310873361876), (time, 0.111...</td>\n",
       "      <td>43</td>\n",
       "      <td>87.037802</td>\n",
       "    </tr>\n",
       "    <tr>\n",
       "      <th>318</th>\n",
       "      <td>I LOVE the look and comfort of these shoes for...</td>\n",
       "      <td>[(major back issues, 0.16276363627717572), (ot...</td>\n",
       "      <td>37</td>\n",
       "      <td>90.683676</td>\n",
       "    </tr>\n",
       "    <tr>\n",
       "      <th>64</th>\n",
       "      <td>Super light-weight, decent arch support (mine ...</td>\n",
       "      <td>[(Shoes, 0.15014668465326747), (shoe, 0.150146...</td>\n",
       "      <td>35</td>\n",
       "      <td>65.562910</td>\n",
       "    </tr>\n",
       "    <tr>\n",
       "      <th>57</th>\n",
       "      <td>Very good overall.\\nNow Ive been a huge Sketch...</td>\n",
       "      <td>[(Walt Disney World, 0.12001095576359547), (So...</td>\n",
       "      <td>35</td>\n",
       "      <td>78.244199</td>\n",
       "    </tr>\n",
       "    <tr>\n",
       "      <th>...</th>\n",
       "      <td>...</td>\n",
       "      <td>...</td>\n",
       "      <td>...</td>\n",
       "      <td>...</td>\n",
       "    </tr>\n",
       "    <tr>\n",
       "      <th>249</th>\n",
       "      <td>Cute and comfortable</td>\n",
       "      <td>[]</td>\n",
       "      <td>0</td>\n",
       "      <td>34.590000</td>\n",
       "    </tr>\n",
       "    <tr>\n",
       "      <th>198</th>\n",
       "      <td>Very comfortable.</td>\n",
       "      <td>[]</td>\n",
       "      <td>0</td>\n",
       "      <td>-48.995000</td>\n",
       "    </tr>\n",
       "    <tr>\n",
       "      <th>101</th>\n",
       "      <td>Super comfy!</td>\n",
       "      <td>[]</td>\n",
       "      <td>0</td>\n",
       "      <td>35.605000</td>\n",
       "    </tr>\n",
       "    <tr>\n",
       "      <th>346</th>\n",
       "      <td>Nice looking and fit nice</td>\n",
       "      <td>[]</td>\n",
       "      <td>0</td>\n",
       "      <td>100.240000</td>\n",
       "    </tr>\n",
       "    <tr>\n",
       "      <th>290</th>\n",
       "      <td>Really comfortable and very cute.</td>\n",
       "      <td>[]</td>\n",
       "      <td>0</td>\n",
       "      <td>15.640000</td>\n",
       "    </tr>\n",
       "  </tbody>\n",
       "</table>\n",
       "<p>369 rows × 4 columns</p>\n",
       "</div>"
      ],
      "text/plain": [
       "                                            reviewText  \\\n",
       "313  Favorite training and walking-around sneakers....   \n",
       "347  I am a recess aide and on my feet all day long...   \n",
       "318  I LOVE the look and comfort of these shoes for...   \n",
       "64   Super light-weight, decent arch support (mine ...   \n",
       "57   Very good overall.\\nNow Ive been a huge Sketch...   \n",
       "..                                                 ...   \n",
       "249                               Cute and comfortable   \n",
       "198                                  Very comfortable.   \n",
       "101                                       Super comfy!   \n",
       "346                          Nice looking and fit nice   \n",
       "290                  Really comfortable and very cute.   \n",
       "\n",
       "                                                 ranks  n_tokens  readability  \n",
       "313  [(gym use, 0.09606191299609641), (flex supreme...        52    70.526224  \n",
       "347  [(hip pain, 0.13045310873361876), (time, 0.111...        43    87.037802  \n",
       "318  [(major back issues, 0.16276363627717572), (ot...        37    90.683676  \n",
       "64   [(Shoes, 0.15014668465326747), (shoe, 0.150146...        35    65.562910  \n",
       "57   [(Walt Disney World, 0.12001095576359547), (So...        35    78.244199  \n",
       "..                                                 ...       ...          ...  \n",
       "249                                                 []         0    34.590000  \n",
       "198                                                 []         0   -48.995000  \n",
       "101                                                 []         0    35.605000  \n",
       "346                                                 []         0   100.240000  \n",
       "290                                                 []         0    15.640000  \n",
       "\n",
       "[369 rows x 4 columns]"
      ]
     },
     "execution_count": 6,
     "metadata": {},
     "output_type": "execute_result"
    }
   ],
   "source": [
    "df_reviews['ranks'] = [p[0] for p in scores]\n",
    "df_reviews['n_tokens'] = [len(p[0]) for p in scores]\n",
    "df_reviews['readability'] = [p[1] for p in scores]\n",
    "df_reviews.sort_values(by='n_tokens', ascending=False)"
   ]
  },
  {
   "cell_type": "code",
   "execution_count": 7,
   "metadata": {},
   "outputs": [],
   "source": [
    "import gensim.downloader as api\n",
    "\n",
    "stopwords = list(nlp.Defaults.stop_words)\n",
    "\n",
    "model_name = 'word2vec-google-news-300' \n",
    "\n",
    "# HACK: Temporary fix -@jiqi at 11/18/2022, 10:23:14 AM\n",
    "# This line checks if the model file is ready and then load it.\n",
    "# Should check why it takes so long (~32 secs)\n",
    "model = api.load(model_name) "
   ]
  },
  {
   "cell_type": "code",
   "execution_count": 8,
   "metadata": {},
   "outputs": [
    {
     "data": {
      "text/plain": [
       "1580"
      ]
     },
     "execution_count": 8,
     "metadata": {},
     "output_type": "execute_result"
    }
   ],
   "source": [
    "tokens = []\n",
    "for phrases_rank in list(df_reviews['ranks']):\n",
    "    for phrase in phrases_rank:\n",
    "        phrase = phrase[0].lower().split()\n",
    "        phrase = filter(lambda t: t not in stopwords, phrase)\n",
    "        phrase = ' '.join(phrase)\n",
    "        if phrase: tokens.append(phrase)\n",
    "len(tokens)"
   ]
  },
  {
   "cell_type": "code",
   "execution_count": 29,
   "metadata": {},
   "outputs": [
    {
     "data": {
      "text/plain": [
       "array([['tennis shoes', 'heel area'],\n",
       "       ['tennis shoes', 'half'],\n",
       "       ['tennis shoes', 'reason'],\n",
       "       ['tennis shoes', 'problem'],\n",
       "       ['tennis shoes', 'light feeling'],\n",
       "       ['tennis shoes', '3 hours'],\n",
       "       ['tennis shoes', 'room'],\n",
       "       ['tennis shoes', 'arch area'],\n",
       "       ['tennis shoes', 'toe area'],\n",
       "       ['tennis shoes', 'shoes']], dtype='<U74')"
      ]
     },
     "execution_count": 29,
     "metadata": {},
     "output_type": "execute_result"
    }
   ],
   "source": [
    "import numpy as np\n",
    "\n",
    "combis = np.array(np.meshgrid(tokens, tokens)).T.reshape(-1, 2)\n",
    "combis = combis[~(combis[:, 0] == combis[:, 1])]\n",
    "combis[0:10]"
   ]
  },
  {
   "cell_type": "code",
   "execution_count": 71,
   "metadata": {},
   "outputs": [
    {
     "ename": "KeyboardInterrupt",
     "evalue": "",
     "output_type": "error",
     "traceback": [
      "\u001b[1;31m---------------------------------------------------------------------------\u001b[0m",
      "\u001b[1;31mKeyboardInterrupt\u001b[0m                         Traceback (most recent call last)",
      "Cell \u001b[1;32mIn [71], line 2\u001b[0m\n\u001b[0;32m      1\u001b[0m calc_wmd \u001b[39m=\u001b[39m np\u001b[39m.\u001b[39mvectorize(model\u001b[39m.\u001b[39mwmdistance)\n\u001b[1;32m----> 2\u001b[0m dists \u001b[39m=\u001b[39m calc_wmd(combis[:,\u001b[39m0\u001b[39;49m], combis[:,\u001b[39m1\u001b[39;49m])\n\u001b[0;32m      3\u001b[0m dists \u001b[39m=\u001b[39m dists\u001b[39m.\u001b[39mtolist()\n",
      "File \u001b[1;32mc:\\Users\\qiji1\\pyvenvs\\orange\\lib\\site-packages\\numpy\\lib\\function_base.py:2328\u001b[0m, in \u001b[0;36mvectorize.__call__\u001b[1;34m(self, *args, **kwargs)\u001b[0m\n\u001b[0;32m   2325\u001b[0m     vargs \u001b[39m=\u001b[39m [args[_i] \u001b[39mfor\u001b[39;00m _i \u001b[39min\u001b[39;00m inds]\n\u001b[0;32m   2326\u001b[0m     vargs\u001b[39m.\u001b[39mextend([kwargs[_n] \u001b[39mfor\u001b[39;00m _n \u001b[39min\u001b[39;00m names])\n\u001b[1;32m-> 2328\u001b[0m \u001b[39mreturn\u001b[39;00m \u001b[39mself\u001b[39;49m\u001b[39m.\u001b[39;49m_vectorize_call(func\u001b[39m=\u001b[39;49mfunc, args\u001b[39m=\u001b[39;49mvargs)\n",
      "File \u001b[1;32mc:\\Users\\qiji1\\pyvenvs\\orange\\lib\\site-packages\\numpy\\lib\\function_base.py:2411\u001b[0m, in \u001b[0;36mvectorize._vectorize_call\u001b[1;34m(self, func, args)\u001b[0m\n\u001b[0;32m   2408\u001b[0m \u001b[39m# Convert args to object arrays first\u001b[39;00m\n\u001b[0;32m   2409\u001b[0m inputs \u001b[39m=\u001b[39m [asanyarray(a, dtype\u001b[39m=\u001b[39m\u001b[39mobject\u001b[39m) \u001b[39mfor\u001b[39;00m a \u001b[39min\u001b[39;00m args]\n\u001b[1;32m-> 2411\u001b[0m outputs \u001b[39m=\u001b[39m ufunc(\u001b[39m*\u001b[39;49minputs)\n\u001b[0;32m   2413\u001b[0m \u001b[39mif\u001b[39;00m ufunc\u001b[39m.\u001b[39mnout \u001b[39m==\u001b[39m \u001b[39m1\u001b[39m:\n\u001b[0;32m   2414\u001b[0m     res \u001b[39m=\u001b[39m asanyarray(outputs, dtype\u001b[39m=\u001b[39motypes[\u001b[39m0\u001b[39m])\n",
      "File \u001b[1;32mc:\\Users\\qiji1\\pyvenvs\\orange\\lib\\site-packages\\gensim\\models\\keyedvectors.py:991\u001b[0m, in \u001b[0;36mKeyedVectors.wmdistance\u001b[1;34m(self, document1, document2, norm)\u001b[0m\n\u001b[0;32m    989\u001b[0m \u001b[39m# Compute distance matrix.\u001b[39;00m\n\u001b[0;32m    990\u001b[0m distance_matrix \u001b[39m=\u001b[39m zeros((vocab_len, vocab_len), dtype\u001b[39m=\u001b[39mdouble)\n\u001b[1;32m--> 991\u001b[0m distance_matrix[np\u001b[39m.\u001b[39mix_(doc1_indices, doc2_indices)] \u001b[39m=\u001b[39m cdist(v1, v2)\n\u001b[0;32m    993\u001b[0m \u001b[39mif\u001b[39;00m \u001b[39mabs\u001b[39m(np_sum(distance_matrix)) \u001b[39m<\u001b[39m \u001b[39m1e-8\u001b[39m:\n\u001b[0;32m    994\u001b[0m     \u001b[39m# `emd` gets stuck if the distance matrix contains only zeros.\u001b[39;00m\n\u001b[0;32m    995\u001b[0m     logger\u001b[39m.\u001b[39minfo(\u001b[39m'\u001b[39m\u001b[39mThe distance matrix is all zeros. Aborting (returning inf).\u001b[39m\u001b[39m'\u001b[39m)\n",
      "File \u001b[1;32mc:\\Users\\qiji1\\pyvenvs\\orange\\lib\\site-packages\\scipy\\spatial\\distance.py:2929\u001b[0m, in \u001b[0;36mcdist\u001b[1;34m(XA, XB, metric, out, **kwargs)\u001b[0m\n\u001b[0;32m   2927\u001b[0m \u001b[39mif\u001b[39;00m metric_info \u001b[39mis\u001b[39;00m \u001b[39mnot\u001b[39;00m \u001b[39mNone\u001b[39;00m:\n\u001b[0;32m   2928\u001b[0m     cdist_fn \u001b[39m=\u001b[39m metric_info\u001b[39m.\u001b[39mcdist_func\n\u001b[1;32m-> 2929\u001b[0m     \u001b[39mreturn\u001b[39;00m cdist_fn(XA, XB, out\u001b[39m=\u001b[39mout, \u001b[39m*\u001b[39m\u001b[39m*\u001b[39mkwargs)\n\u001b[0;32m   2930\u001b[0m \u001b[39melif\u001b[39;00m mstr\u001b[39m.\u001b[39mstartswith(\u001b[39m\"\u001b[39m\u001b[39mtest_\u001b[39m\u001b[39m\"\u001b[39m):\n\u001b[0;32m   2931\u001b[0m     metric_info \u001b[39m=\u001b[39m _TEST_METRICS\u001b[39m.\u001b[39mget(mstr, \u001b[39mNone\u001b[39;00m)\n",
      "\u001b[1;31mKeyboardInterrupt\u001b[0m: "
     ]
    }
   ],
   "source": [
    "calc_wmd = np.vectorize(model.wmdistance)\n",
    "dists = calc_wmd(combis[:,0], combis[:,1])\n",
    "dists = np.nan_to_num(dists, nan=0, posinf=100)\n",
    "dists = dists.tolist()"
   ]
  },
  {
   "cell_type": "code",
   "execution_count": null,
   "metadata": {},
   "outputs": [],
   "source": [
    "data = np.zeros((len(tokens), len(tokens)))\n",
    "data[np.triu_indices(len(tokens), 1)] = dists"
   ]
  }
 ],
 "metadata": {
  "kernelspec": {
   "display_name": "Python 3.10.8 ('orange')",
   "language": "python",
   "name": "python3"
  },
  "language_info": {
   "codemirror_mode": {
    "name": "ipython",
    "version": 3
   },
   "file_extension": ".py",
   "mimetype": "text/x-python",
   "name": "python",
   "nbconvert_exporter": "python",
   "pygments_lexer": "ipython3",
   "version": "3.10.8"
  },
  "orig_nbformat": 4,
  "vscode": {
   "interpreter": {
    "hash": "cff6d86c389c8dbba1cda1c959eed7cea72186d6d7c0fd53fa87d9ecdd53e8cf"
   }
  }
 },
 "nbformat": 4,
 "nbformat_minor": 2
}
